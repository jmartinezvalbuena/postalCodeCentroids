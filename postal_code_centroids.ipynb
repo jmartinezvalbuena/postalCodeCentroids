{
  "nbformat": 4,
  "nbformat_minor": 0,
  "metadata": {
    "colab": {
      "provenance": [],
      "authorship_tag": "ABX9TyO5vxfX89C26suFyiM6+lEy",
      "include_colab_link": true
    },
    "kernelspec": {
      "name": "python3",
      "display_name": "Python 3"
    },
    "language_info": {
      "name": "python"
    }
  },
  "cells": [
    {
      "cell_type": "markdown",
      "metadata": {
        "id": "view-in-github",
        "colab_type": "text"
      },
      "source": [
        "<a href=\"https://colab.research.google.com/github/jmartinezvalbuena/postalCodeCentroids/blob/main/postal_code_centroids.ipynb\" target=\"_parent\"><img src=\"https://colab.research.google.com/assets/colab-badge.svg\" alt=\"Open In Colab\"/></a>"
      ]
    },
    {
      "cell_type": "code",
      "execution_count": null,
      "metadata": {
        "id": "ejK_JpvJNM_M",
        "outputId": "82f7b63f-c0d8-494c-a8a2-8636a32e2f64",
        "colab": {
          "base_uri": "https://localhost:8080/",
          "height": 17
        }
      },
      "outputs": [
        {
          "output_type": "display_data",
          "data": {
            "text/plain": [
              "<IPython.core.display.Javascript object>"
            ],
            "application/javascript": [
              "\n",
              "    async function download(id, filename, size) {\n",
              "      if (!google.colab.kernel.accessAllowed) {\n",
              "        return;\n",
              "      }\n",
              "      const div = document.createElement('div');\n",
              "      const label = document.createElement('label');\n",
              "      label.textContent = `Downloading \"${filename}\": `;\n",
              "      div.appendChild(label);\n",
              "      const progress = document.createElement('progress');\n",
              "      progress.max = size;\n",
              "      div.appendChild(progress);\n",
              "      document.body.appendChild(div);\n",
              "\n",
              "      const buffers = [];\n",
              "      let downloaded = 0;\n",
              "\n",
              "      const channel = await google.colab.kernel.comms.open(id);\n",
              "      // Send a message to notify the kernel that we're ready.\n",
              "      channel.send({})\n",
              "\n",
              "      for await (const message of channel.messages) {\n",
              "        // Send a message to notify the kernel that we're ready.\n",
              "        channel.send({})\n",
              "        if (message.buffers) {\n",
              "          for (const buffer of message.buffers) {\n",
              "            buffers.push(buffer);\n",
              "            downloaded += buffer.byteLength;\n",
              "            progress.value = downloaded;\n",
              "          }\n",
              "        }\n",
              "      }\n",
              "      const blob = new Blob(buffers, {type: 'application/binary'});\n",
              "      const a = document.createElement('a');\n",
              "      a.href = window.URL.createObjectURL(blob);\n",
              "      a.download = filename;\n",
              "      div.appendChild(a);\n",
              "      a.click();\n",
              "      div.remove();\n",
              "    }\n",
              "  "
            ]
          },
          "metadata": {}
        },
        {
          "output_type": "display_data",
          "data": {
            "text/plain": [
              "<IPython.core.display.Javascript object>"
            ],
            "application/javascript": [
              "download(\"download_7a5474f0-bc4d-4f6f-baf1-3d959541b9be\", \"cp.csv\", 278247)"
            ]
          },
          "metadata": {}
        }
      ],
      "source": [
        "import pandas as pd\n",
        "import geopy\n",
        "import urllib.request\n",
        "from google.colab import files\n",
        "from geopy.geocoders import Nominatim\n",
        "from zipfile import ZipFile\n",
        "from io import StringIO, BytesIO, TextIOWrapper\n",
        "\n",
        "import requests, zipfile\n",
        "\n",
        "\n",
        "resp = urllib.request.urlopen(\"https://download.geonames.org/export/zip/ES.zip\")\n",
        "# Carga la base de datos de códigos postales de España\n",
        "zipfile = ZipFile(BytesIO(resp.read()))\n",
        "\n",
        "\n",
        "df = pd.read_csv(zipfile.open(\"ES.txt\"), sep='\\t', header=None, names=['country_code', 'postal_code', 'place_name', 'admin_name1', 'admin_code1', 'admin_name2', 'admin_code2', 'admin_name3', 'admin_code3', 'latitude', 'longitude', 'accuracy'])\n",
        "\n",
        "# Filtra los códigos postales para España\n",
        "df = df[df['country_code'] == 'ES']\n",
        "\n",
        "# Agrupa los datos por código postal y calcula el centroide para cada grupo\n",
        "df_centroids = df.groupby('postal_code').agg({'latitude': 'mean', 'longitude': 'mean'}).reset_index()\n",
        "\n",
        "# Exporta los datos a un archivo CSV\n",
        "\n",
        "\n",
        "file = df_centroids.to_csv('cp.csv', index=False)\n",
        "files.download(\"cp.csv\")"
      ]
    }
  ]
}